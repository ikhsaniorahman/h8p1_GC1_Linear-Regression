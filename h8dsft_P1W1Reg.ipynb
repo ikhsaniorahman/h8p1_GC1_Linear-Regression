{
 "cells": [
  {
   "cell_type": "markdown",
   "id": "3c627380",
   "metadata": {},
   "source": [
    "# Graded Challenge 1\n",
    "Muhammad Ikhsan Rahman Hakim - FTDS001"
   ]
  },
  {
   "cell_type": "markdown",
   "id": "10bf668d",
   "metadata": {},
   "source": [
    "The dataset used is **Uber vs Lyft** dataset from kaggle. It contains trip transaction from these two big online tranportation company. It also included the corresponding weather data for that hour with a short summary of the weather, temperature, wind, and sunset.\n",
    "\n",
    "We want to try make a Linear Regression Model from it, and see the compatibility between the two."
   ]
  },
  {
   "cell_type": "code",
   "execution_count": 80,
   "id": "eff6404f",
   "metadata": {},
   "outputs": [],
   "source": [
    "import pandas as pd\n",
    "import numpy as np\n",
    "import matplotlib.pyplot as plt\n",
    "import seaborn as sns\n",
    "from sklearn.linear_model import LinearRegression\n",
    "from sklearn.preprocessing import StandardScaler\n",
    "\n",
    "%matplotlib inline"
   ]
  },
  {
   "cell_type": "markdown",
   "id": "401929c3",
   "metadata": {},
   "source": [
    "## Data Loading"
   ]
  },
  {
   "cell_type": "code",
   "execution_count": 3,
   "id": "697ee9cb",
   "metadata": {},
   "outputs": [],
   "source": [
    "df = pd.read_csv('rideshare_kaggle.csv')"
   ]
  },
  {
   "cell_type": "code",
   "execution_count": 4,
   "id": "fb53b203",
   "metadata": {
    "scrolled": true
   },
   "outputs": [
    {
     "name": "stdout",
     "output_type": "stream",
     "text": [
      "Dimension of the dataset: (693071, 57)\n"
     ]
    },
    {
     "data": {
      "text/html": [
       "<div>\n",
       "<style scoped>\n",
       "    .dataframe tbody tr th:only-of-type {\n",
       "        vertical-align: middle;\n",
       "    }\n",
       "\n",
       "    .dataframe tbody tr th {\n",
       "        vertical-align: top;\n",
       "    }\n",
       "\n",
       "    .dataframe thead th {\n",
       "        text-align: right;\n",
       "    }\n",
       "</style>\n",
       "<table border=\"1\" class=\"dataframe\">\n",
       "  <thead>\n",
       "    <tr style=\"text-align: right;\">\n",
       "      <th></th>\n",
       "      <th>id</th>\n",
       "      <th>timestamp</th>\n",
       "      <th>hour</th>\n",
       "      <th>day</th>\n",
       "      <th>month</th>\n",
       "      <th>datetime</th>\n",
       "      <th>timezone</th>\n",
       "      <th>source</th>\n",
       "      <th>destination</th>\n",
       "      <th>cab_type</th>\n",
       "      <th>...</th>\n",
       "      <th>precipIntensityMax</th>\n",
       "      <th>uvIndexTime</th>\n",
       "      <th>temperatureMin</th>\n",
       "      <th>temperatureMinTime</th>\n",
       "      <th>temperatureMax</th>\n",
       "      <th>temperatureMaxTime</th>\n",
       "      <th>apparentTemperatureMin</th>\n",
       "      <th>apparentTemperatureMinTime</th>\n",
       "      <th>apparentTemperatureMax</th>\n",
       "      <th>apparentTemperatureMaxTime</th>\n",
       "    </tr>\n",
       "  </thead>\n",
       "  <tbody>\n",
       "    <tr>\n",
       "      <th>0</th>\n",
       "      <td>424553bb-7174-41ea-aeb4-fe06d4f4b9d7</td>\n",
       "      <td>1.544953e+09</td>\n",
       "      <td>9</td>\n",
       "      <td>16</td>\n",
       "      <td>12</td>\n",
       "      <td>2018-12-16 09:30:07</td>\n",
       "      <td>America/New_York</td>\n",
       "      <td>Haymarket Square</td>\n",
       "      <td>North Station</td>\n",
       "      <td>Lyft</td>\n",
       "      <td>...</td>\n",
       "      <td>0.1276</td>\n",
       "      <td>1544979600</td>\n",
       "      <td>39.89</td>\n",
       "      <td>1545012000</td>\n",
       "      <td>43.68</td>\n",
       "      <td>1544968800</td>\n",
       "      <td>33.73</td>\n",
       "      <td>1545012000</td>\n",
       "      <td>38.07</td>\n",
       "      <td>1544958000</td>\n",
       "    </tr>\n",
       "    <tr>\n",
       "      <th>1</th>\n",
       "      <td>4bd23055-6827-41c6-b23b-3c491f24e74d</td>\n",
       "      <td>1.543284e+09</td>\n",
       "      <td>2</td>\n",
       "      <td>27</td>\n",
       "      <td>11</td>\n",
       "      <td>2018-11-27 02:00:23</td>\n",
       "      <td>America/New_York</td>\n",
       "      <td>Haymarket Square</td>\n",
       "      <td>North Station</td>\n",
       "      <td>Lyft</td>\n",
       "      <td>...</td>\n",
       "      <td>0.1300</td>\n",
       "      <td>1543251600</td>\n",
       "      <td>40.49</td>\n",
       "      <td>1543233600</td>\n",
       "      <td>47.30</td>\n",
       "      <td>1543251600</td>\n",
       "      <td>36.20</td>\n",
       "      <td>1543291200</td>\n",
       "      <td>43.92</td>\n",
       "      <td>1543251600</td>\n",
       "    </tr>\n",
       "    <tr>\n",
       "      <th>2</th>\n",
       "      <td>981a3613-77af-4620-a42a-0c0866077d1e</td>\n",
       "      <td>1.543367e+09</td>\n",
       "      <td>1</td>\n",
       "      <td>28</td>\n",
       "      <td>11</td>\n",
       "      <td>2018-11-28 01:00:22</td>\n",
       "      <td>America/New_York</td>\n",
       "      <td>Haymarket Square</td>\n",
       "      <td>North Station</td>\n",
       "      <td>Lyft</td>\n",
       "      <td>...</td>\n",
       "      <td>0.1064</td>\n",
       "      <td>1543338000</td>\n",
       "      <td>35.36</td>\n",
       "      <td>1543377600</td>\n",
       "      <td>47.55</td>\n",
       "      <td>1543320000</td>\n",
       "      <td>31.04</td>\n",
       "      <td>1543377600</td>\n",
       "      <td>44.12</td>\n",
       "      <td>1543320000</td>\n",
       "    </tr>\n",
       "    <tr>\n",
       "      <th>3</th>\n",
       "      <td>c2d88af2-d278-4bfd-a8d0-29ca77cc5512</td>\n",
       "      <td>1.543554e+09</td>\n",
       "      <td>4</td>\n",
       "      <td>30</td>\n",
       "      <td>11</td>\n",
       "      <td>2018-11-30 04:53:02</td>\n",
       "      <td>America/New_York</td>\n",
       "      <td>Haymarket Square</td>\n",
       "      <td>North Station</td>\n",
       "      <td>Lyft</td>\n",
       "      <td>...</td>\n",
       "      <td>0.0000</td>\n",
       "      <td>1543507200</td>\n",
       "      <td>34.67</td>\n",
       "      <td>1543550400</td>\n",
       "      <td>45.03</td>\n",
       "      <td>1543510800</td>\n",
       "      <td>30.30</td>\n",
       "      <td>1543550400</td>\n",
       "      <td>38.53</td>\n",
       "      <td>1543510800</td>\n",
       "    </tr>\n",
       "    <tr>\n",
       "      <th>4</th>\n",
       "      <td>e0126e1f-8ca9-4f2e-82b3-50505a09db9a</td>\n",
       "      <td>1.543463e+09</td>\n",
       "      <td>3</td>\n",
       "      <td>29</td>\n",
       "      <td>11</td>\n",
       "      <td>2018-11-29 03:49:20</td>\n",
       "      <td>America/New_York</td>\n",
       "      <td>Haymarket Square</td>\n",
       "      <td>North Station</td>\n",
       "      <td>Lyft</td>\n",
       "      <td>...</td>\n",
       "      <td>0.0001</td>\n",
       "      <td>1543420800</td>\n",
       "      <td>33.10</td>\n",
       "      <td>1543402800</td>\n",
       "      <td>42.18</td>\n",
       "      <td>1543420800</td>\n",
       "      <td>29.11</td>\n",
       "      <td>1543392000</td>\n",
       "      <td>35.75</td>\n",
       "      <td>1543420800</td>\n",
       "    </tr>\n",
       "  </tbody>\n",
       "</table>\n",
       "<p>5 rows × 57 columns</p>\n",
       "</div>"
      ],
      "text/plain": [
       "                                     id     timestamp  hour  day  month  \\\n",
       "0  424553bb-7174-41ea-aeb4-fe06d4f4b9d7  1.544953e+09     9   16     12   \n",
       "1  4bd23055-6827-41c6-b23b-3c491f24e74d  1.543284e+09     2   27     11   \n",
       "2  981a3613-77af-4620-a42a-0c0866077d1e  1.543367e+09     1   28     11   \n",
       "3  c2d88af2-d278-4bfd-a8d0-29ca77cc5512  1.543554e+09     4   30     11   \n",
       "4  e0126e1f-8ca9-4f2e-82b3-50505a09db9a  1.543463e+09     3   29     11   \n",
       "\n",
       "              datetime          timezone            source    destination  \\\n",
       "0  2018-12-16 09:30:07  America/New_York  Haymarket Square  North Station   \n",
       "1  2018-11-27 02:00:23  America/New_York  Haymarket Square  North Station   \n",
       "2  2018-11-28 01:00:22  America/New_York  Haymarket Square  North Station   \n",
       "3  2018-11-30 04:53:02  America/New_York  Haymarket Square  North Station   \n",
       "4  2018-11-29 03:49:20  America/New_York  Haymarket Square  North Station   \n",
       "\n",
       "  cab_type  ... precipIntensityMax uvIndexTime  temperatureMin  \\\n",
       "0     Lyft  ...             0.1276  1544979600           39.89   \n",
       "1     Lyft  ...             0.1300  1543251600           40.49   \n",
       "2     Lyft  ...             0.1064  1543338000           35.36   \n",
       "3     Lyft  ...             0.0000  1543507200           34.67   \n",
       "4     Lyft  ...             0.0001  1543420800           33.10   \n",
       "\n",
       "   temperatureMinTime  temperatureMax  temperatureMaxTime  \\\n",
       "0          1545012000           43.68          1544968800   \n",
       "1          1543233600           47.30          1543251600   \n",
       "2          1543377600           47.55          1543320000   \n",
       "3          1543550400           45.03          1543510800   \n",
       "4          1543402800           42.18          1543420800   \n",
       "\n",
       "   apparentTemperatureMin  apparentTemperatureMinTime  apparentTemperatureMax  \\\n",
       "0                   33.73                  1545012000                   38.07   \n",
       "1                   36.20                  1543291200                   43.92   \n",
       "2                   31.04                  1543377600                   44.12   \n",
       "3                   30.30                  1543550400                   38.53   \n",
       "4                   29.11                  1543392000                   35.75   \n",
       "\n",
       "  apparentTemperatureMaxTime  \n",
       "0                 1544958000  \n",
       "1                 1543251600  \n",
       "2                 1543320000  \n",
       "3                 1543510800  \n",
       "4                 1543420800  \n",
       "\n",
       "[5 rows x 57 columns]"
      ]
     },
     "execution_count": 4,
     "metadata": {},
     "output_type": "execute_result"
    }
   ],
   "source": [
    "print('Dimension of the dataset:', df.shape)\n",
    "df.head(5)"
   ]
  },
  {
   "cell_type": "code",
   "execution_count": 5,
   "id": "9a2bf4bd",
   "metadata": {},
   "outputs": [
    {
     "data": {
      "text/plain": [
       "Index(['id', 'timestamp', 'hour', 'day', 'month', 'datetime', 'timezone',\n",
       "       'source', 'destination', 'cab_type', 'product_id', 'name', 'price',\n",
       "       'distance', 'surge_multiplier', 'latitude', 'longitude', 'temperature',\n",
       "       'apparentTemperature', 'short_summary', 'long_summary',\n",
       "       'precipIntensity', 'precipProbability', 'humidity', 'windSpeed',\n",
       "       'windGust', 'windGustTime', 'visibility', 'temperatureHigh',\n",
       "       'temperatureHighTime', 'temperatureLow', 'temperatureLowTime',\n",
       "       'apparentTemperatureHigh', 'apparentTemperatureHighTime',\n",
       "       'apparentTemperatureLow', 'apparentTemperatureLowTime', 'icon',\n",
       "       'dewPoint', 'pressure', 'windBearing', 'cloudCover', 'uvIndex',\n",
       "       'visibility.1', 'ozone', 'sunriseTime', 'sunsetTime', 'moonPhase',\n",
       "       'precipIntensityMax', 'uvIndexTime', 'temperatureMin',\n",
       "       'temperatureMinTime', 'temperatureMax', 'temperatureMaxTime',\n",
       "       'apparentTemperatureMin', 'apparentTemperatureMinTime',\n",
       "       'apparentTemperatureMax', 'apparentTemperatureMaxTime'],\n",
       "      dtype='object')"
      ]
     },
     "execution_count": 5,
     "metadata": {},
     "output_type": "execute_result"
    }
   ],
   "source": [
    "df.columns"
   ]
  },
  {
   "cell_type": "code",
   "execution_count": 6,
   "id": "6ab29a80",
   "metadata": {
    "scrolled": true
   },
   "outputs": [
    {
     "name": "stdout",
     "output_type": "stream",
     "text": [
      "<class 'pandas.core.frame.DataFrame'>\n",
      "RangeIndex: 693071 entries, 0 to 693070\n",
      "Data columns (total 57 columns):\n",
      " #   Column                       Non-Null Count   Dtype  \n",
      "---  ------                       --------------   -----  \n",
      " 0   id                           693071 non-null  object \n",
      " 1   timestamp                    693071 non-null  float64\n",
      " 2   hour                         693071 non-null  int64  \n",
      " 3   day                          693071 non-null  int64  \n",
      " 4   month                        693071 non-null  int64  \n",
      " 5   datetime                     693071 non-null  object \n",
      " 6   timezone                     693071 non-null  object \n",
      " 7   source                       693071 non-null  object \n",
      " 8   destination                  693071 non-null  object \n",
      " 9   cab_type                     693071 non-null  object \n",
      " 10  product_id                   693071 non-null  object \n",
      " 11  name                         693071 non-null  object \n",
      " 12  price                        637976 non-null  float64\n",
      " 13  distance                     693071 non-null  float64\n",
      " 14  surge_multiplier             693071 non-null  float64\n",
      " 15  latitude                     693071 non-null  float64\n",
      " 16  longitude                    693071 non-null  float64\n",
      " 17  temperature                  693071 non-null  float64\n",
      " 18  apparentTemperature          693071 non-null  float64\n",
      " 19  short_summary                693071 non-null  object \n",
      " 20  long_summary                 693071 non-null  object \n",
      " 21  precipIntensity              693071 non-null  float64\n",
      " 22  precipProbability            693071 non-null  float64\n",
      " 23  humidity                     693071 non-null  float64\n",
      " 24  windSpeed                    693071 non-null  float64\n",
      " 25  windGust                     693071 non-null  float64\n",
      " 26  windGustTime                 693071 non-null  int64  \n",
      " 27  visibility                   693071 non-null  float64\n",
      " 28  temperatureHigh              693071 non-null  float64\n",
      " 29  temperatureHighTime          693071 non-null  int64  \n",
      " 30  temperatureLow               693071 non-null  float64\n",
      " 31  temperatureLowTime           693071 non-null  int64  \n",
      " 32  apparentTemperatureHigh      693071 non-null  float64\n",
      " 33  apparentTemperatureHighTime  693071 non-null  int64  \n",
      " 34  apparentTemperatureLow       693071 non-null  float64\n",
      " 35  apparentTemperatureLowTime   693071 non-null  int64  \n",
      " 36  icon                         693071 non-null  object \n",
      " 37  dewPoint                     693071 non-null  float64\n",
      " 38  pressure                     693071 non-null  float64\n",
      " 39  windBearing                  693071 non-null  int64  \n",
      " 40  cloudCover                   693071 non-null  float64\n",
      " 41  uvIndex                      693071 non-null  int64  \n",
      " 42  visibility.1                 693071 non-null  float64\n",
      " 43  ozone                        693071 non-null  float64\n",
      " 44  sunriseTime                  693071 non-null  int64  \n",
      " 45  sunsetTime                   693071 non-null  int64  \n",
      " 46  moonPhase                    693071 non-null  float64\n",
      " 47  precipIntensityMax           693071 non-null  float64\n",
      " 48  uvIndexTime                  693071 non-null  int64  \n",
      " 49  temperatureMin               693071 non-null  float64\n",
      " 50  temperatureMinTime           693071 non-null  int64  \n",
      " 51  temperatureMax               693071 non-null  float64\n",
      " 52  temperatureMaxTime           693071 non-null  int64  \n",
      " 53  apparentTemperatureMin       693071 non-null  float64\n",
      " 54  apparentTemperatureMinTime   693071 non-null  int64  \n",
      " 55  apparentTemperatureMax       693071 non-null  float64\n",
      " 56  apparentTemperatureMaxTime   693071 non-null  int64  \n",
      "dtypes: float64(29), int64(17), object(11)\n",
      "memory usage: 301.4+ MB\n"
     ]
    }
   ],
   "source": [
    "df.info()"
   ]
  },
  {
   "cell_type": "markdown",
   "id": "f2b3db39",
   "metadata": {},
   "source": [
    "## Data Cleaning"
   ]
  },
  {
   "cell_type": "markdown",
   "id": "58d03f96",
   "metadata": {},
   "source": [
    "Drop some data that might be not related to price."
   ]
  },
  {
   "cell_type": "code",
   "execution_count": 7,
   "id": "36057bef",
   "metadata": {},
   "outputs": [
    {
     "name": "stdout",
     "output_type": "stream",
     "text": [
      "(693071, 32)\n"
     ]
    }
   ],
   "source": [
    "#drop columns\n",
    "new_df = df.drop(['id','timestamp','long_summary','latitude','longitude','windGustTime','temperatureHigh',\n",
    "                  'temperatureHighTime','temperatureLow','temperatureLowTime','apparentTemperatureHighTime','apparentTemperatureHigh',\n",
    "                  'apparentTemperatureLowTime','apparentTemperatureLow','sunriseTime','sunsetTime','uvIndexTime','temperatureMinTime',\n",
    "                  'temperatureMaxTime','apparentTemperatureMinTime','apparentTemperatureMaxTime','ozone',\n",
    "                  'moonPhase','icon','uvIndex'],axis = 1)\n",
    "print(new_df.shape)"
   ]
  },
  {
   "cell_type": "code",
   "execution_count": 8,
   "id": "409c08b1",
   "metadata": {
    "scrolled": true
   },
   "outputs": [
    {
     "data": {
      "text/plain": [
       "price                     55095\n",
       "hour                          0\n",
       "precipProbability             0\n",
       "apparentTemperatureMin        0\n",
       "temperatureMax                0\n",
       "temperatureMin                0\n",
       "precipIntensityMax            0\n",
       "visibility.1                  0\n",
       "cloudCover                    0\n",
       "windBearing                   0\n",
       "pressure                      0\n",
       "dewPoint                      0\n",
       "visibility                    0\n",
       "windGust                      0\n",
       "windSpeed                     0\n",
       "humidity                      0\n",
       "precipIntensity               0\n",
       "day                           0\n",
       "short_summary                 0\n",
       "apparentTemperature           0\n",
       "temperature                   0\n",
       "surge_multiplier              0\n",
       "distance                      0\n",
       "name                          0\n",
       "product_id                    0\n",
       "cab_type                      0\n",
       "destination                   0\n",
       "source                        0\n",
       "timezone                      0\n",
       "datetime                      0\n",
       "month                         0\n",
       "apparentTemperatureMax        0\n",
       "dtype: int64"
      ]
     },
     "execution_count": 8,
     "metadata": {},
     "output_type": "execute_result"
    }
   ],
   "source": [
    "#detect missing value from every columns\n",
    "new_df.isnull().sum().sort_values(ascending=False)"
   ]
  },
  {
   "cell_type": "code",
   "execution_count": 9,
   "id": "f40efa90",
   "metadata": {},
   "outputs": [],
   "source": [
    "# Drop any rows with null values\n",
    "new_df.dropna(axis=0, how='any', inplace=True)"
   ]
  },
  {
   "cell_type": "code",
   "execution_count": 10,
   "id": "8be7ada3",
   "metadata": {},
   "outputs": [],
   "source": [
    "new_df['datetime'] = pd.to_datetime(new_df['datetime'])"
   ]
  },
  {
   "cell_type": "code",
   "execution_count": 11,
   "id": "4e7ba35a",
   "metadata": {},
   "outputs": [
    {
     "data": {
      "text/html": [
       "<div>\n",
       "<style scoped>\n",
       "    .dataframe tbody tr th:only-of-type {\n",
       "        vertical-align: middle;\n",
       "    }\n",
       "\n",
       "    .dataframe tbody tr th {\n",
       "        vertical-align: top;\n",
       "    }\n",
       "\n",
       "    .dataframe thead th {\n",
       "        text-align: right;\n",
       "    }\n",
       "</style>\n",
       "<table border=\"1\" class=\"dataframe\">\n",
       "  <thead>\n",
       "    <tr style=\"text-align: right;\">\n",
       "      <th></th>\n",
       "      <th>hour</th>\n",
       "      <th>day</th>\n",
       "      <th>month</th>\n",
       "      <th>datetime</th>\n",
       "      <th>timezone</th>\n",
       "      <th>source</th>\n",
       "      <th>destination</th>\n",
       "      <th>cab_type</th>\n",
       "      <th>product_id</th>\n",
       "      <th>name</th>\n",
       "      <th>...</th>\n",
       "      <th>dewPoint</th>\n",
       "      <th>pressure</th>\n",
       "      <th>windBearing</th>\n",
       "      <th>cloudCover</th>\n",
       "      <th>visibility.1</th>\n",
       "      <th>precipIntensityMax</th>\n",
       "      <th>temperatureMin</th>\n",
       "      <th>temperatureMax</th>\n",
       "      <th>apparentTemperatureMin</th>\n",
       "      <th>apparentTemperatureMax</th>\n",
       "    </tr>\n",
       "  </thead>\n",
       "  <tbody>\n",
       "    <tr>\n",
       "      <th>0</th>\n",
       "      <td>9</td>\n",
       "      <td>16</td>\n",
       "      <td>12</td>\n",
       "      <td>2018-12-16 09:30:07</td>\n",
       "      <td>America/New_York</td>\n",
       "      <td>Haymarket Square</td>\n",
       "      <td>North Station</td>\n",
       "      <td>Lyft</td>\n",
       "      <td>lyft_line</td>\n",
       "      <td>Shared</td>\n",
       "      <td>...</td>\n",
       "      <td>32.70</td>\n",
       "      <td>1021.98</td>\n",
       "      <td>57</td>\n",
       "      <td>0.72</td>\n",
       "      <td>10.000</td>\n",
       "      <td>0.1276</td>\n",
       "      <td>39.89</td>\n",
       "      <td>43.68</td>\n",
       "      <td>33.73</td>\n",
       "      <td>38.07</td>\n",
       "    </tr>\n",
       "    <tr>\n",
       "      <th>1</th>\n",
       "      <td>2</td>\n",
       "      <td>27</td>\n",
       "      <td>11</td>\n",
       "      <td>2018-11-27 02:00:23</td>\n",
       "      <td>America/New_York</td>\n",
       "      <td>Haymarket Square</td>\n",
       "      <td>North Station</td>\n",
       "      <td>Lyft</td>\n",
       "      <td>lyft_premier</td>\n",
       "      <td>Lux</td>\n",
       "      <td>...</td>\n",
       "      <td>41.83</td>\n",
       "      <td>1003.97</td>\n",
       "      <td>90</td>\n",
       "      <td>1.00</td>\n",
       "      <td>4.786</td>\n",
       "      <td>0.1300</td>\n",
       "      <td>40.49</td>\n",
       "      <td>47.30</td>\n",
       "      <td>36.20</td>\n",
       "      <td>43.92</td>\n",
       "    </tr>\n",
       "    <tr>\n",
       "      <th>2</th>\n",
       "      <td>1</td>\n",
       "      <td>28</td>\n",
       "      <td>11</td>\n",
       "      <td>2018-11-28 01:00:22</td>\n",
       "      <td>America/New_York</td>\n",
       "      <td>Haymarket Square</td>\n",
       "      <td>North Station</td>\n",
       "      <td>Lyft</td>\n",
       "      <td>lyft</td>\n",
       "      <td>Lyft</td>\n",
       "      <td>...</td>\n",
       "      <td>31.10</td>\n",
       "      <td>992.28</td>\n",
       "      <td>240</td>\n",
       "      <td>0.03</td>\n",
       "      <td>10.000</td>\n",
       "      <td>0.1064</td>\n",
       "      <td>35.36</td>\n",
       "      <td>47.55</td>\n",
       "      <td>31.04</td>\n",
       "      <td>44.12</td>\n",
       "    </tr>\n",
       "    <tr>\n",
       "      <th>3</th>\n",
       "      <td>4</td>\n",
       "      <td>30</td>\n",
       "      <td>11</td>\n",
       "      <td>2018-11-30 04:53:02</td>\n",
       "      <td>America/New_York</td>\n",
       "      <td>Haymarket Square</td>\n",
       "      <td>North Station</td>\n",
       "      <td>Lyft</td>\n",
       "      <td>lyft_luxsuv</td>\n",
       "      <td>Lux Black XL</td>\n",
       "      <td>...</td>\n",
       "      <td>26.64</td>\n",
       "      <td>1013.73</td>\n",
       "      <td>310</td>\n",
       "      <td>0.00</td>\n",
       "      <td>10.000</td>\n",
       "      <td>0.0000</td>\n",
       "      <td>34.67</td>\n",
       "      <td>45.03</td>\n",
       "      <td>30.30</td>\n",
       "      <td>38.53</td>\n",
       "    </tr>\n",
       "    <tr>\n",
       "      <th>4</th>\n",
       "      <td>3</td>\n",
       "      <td>29</td>\n",
       "      <td>11</td>\n",
       "      <td>2018-11-29 03:49:20</td>\n",
       "      <td>America/New_York</td>\n",
       "      <td>Haymarket Square</td>\n",
       "      <td>North Station</td>\n",
       "      <td>Lyft</td>\n",
       "      <td>lyft_plus</td>\n",
       "      <td>Lyft XL</td>\n",
       "      <td>...</td>\n",
       "      <td>28.61</td>\n",
       "      <td>998.36</td>\n",
       "      <td>303</td>\n",
       "      <td>0.44</td>\n",
       "      <td>10.000</td>\n",
       "      <td>0.0001</td>\n",
       "      <td>33.10</td>\n",
       "      <td>42.18</td>\n",
       "      <td>29.11</td>\n",
       "      <td>35.75</td>\n",
       "    </tr>\n",
       "  </tbody>\n",
       "</table>\n",
       "<p>5 rows × 32 columns</p>\n",
       "</div>"
      ],
      "text/plain": [
       "   hour  day  month            datetime          timezone            source  \\\n",
       "0     9   16     12 2018-12-16 09:30:07  America/New_York  Haymarket Square   \n",
       "1     2   27     11 2018-11-27 02:00:23  America/New_York  Haymarket Square   \n",
       "2     1   28     11 2018-11-28 01:00:22  America/New_York  Haymarket Square   \n",
       "3     4   30     11 2018-11-30 04:53:02  America/New_York  Haymarket Square   \n",
       "4     3   29     11 2018-11-29 03:49:20  America/New_York  Haymarket Square   \n",
       "\n",
       "     destination cab_type    product_id          name  ...  dewPoint  \\\n",
       "0  North Station     Lyft     lyft_line        Shared  ...     32.70   \n",
       "1  North Station     Lyft  lyft_premier           Lux  ...     41.83   \n",
       "2  North Station     Lyft          lyft          Lyft  ...     31.10   \n",
       "3  North Station     Lyft   lyft_luxsuv  Lux Black XL  ...     26.64   \n",
       "4  North Station     Lyft     lyft_plus       Lyft XL  ...     28.61   \n",
       "\n",
       "   pressure  windBearing  cloudCover  visibility.1 precipIntensityMax  \\\n",
       "0   1021.98           57        0.72        10.000             0.1276   \n",
       "1   1003.97           90        1.00         4.786             0.1300   \n",
       "2    992.28          240        0.03        10.000             0.1064   \n",
       "3   1013.73          310        0.00        10.000             0.0000   \n",
       "4    998.36          303        0.44        10.000             0.0001   \n",
       "\n",
       "   temperatureMin  temperatureMax  apparentTemperatureMin  \\\n",
       "0           39.89           43.68                   33.73   \n",
       "1           40.49           47.30                   36.20   \n",
       "2           35.36           47.55                   31.04   \n",
       "3           34.67           45.03                   30.30   \n",
       "4           33.10           42.18                   29.11   \n",
       "\n",
       "   apparentTemperatureMax  \n",
       "0                   38.07  \n",
       "1                   43.92  \n",
       "2                   44.12  \n",
       "3                   38.53  \n",
       "4                   35.75  \n",
       "\n",
       "[5 rows x 32 columns]"
      ]
     },
     "execution_count": 11,
     "metadata": {},
     "output_type": "execute_result"
    }
   ],
   "source": [
    "new_df.head()"
   ]
  },
  {
   "cell_type": "markdown",
   "id": "df55d751",
   "metadata": {},
   "source": [
    "# Exploratory Data Analysis (EDA)"
   ]
  },
  {
   "cell_type": "markdown",
   "id": "9c380c3b",
   "metadata": {},
   "source": [
    "Let's see how \"Price\" data distributed."
   ]
  },
  {
   "cell_type": "code",
   "execution_count": 53,
   "id": "2fc31989",
   "metadata": {
    "scrolled": false
   },
   "outputs": [
    {
     "name": "stdout",
     "output_type": "stream",
     "text": [
      "Price mean:  16.545125490614065\n"
     ]
    },
    {
     "data": {
      "image/png": "[encoded data removed]",
      "text/plain": [
       "<Figure size 432x288 with 1 Axes>"
      ]
     },
     "metadata": {
      "needs_background": "light"
     },
     "output_type": "display_data"
    }
   ],
   "source": [
    "new_df['price'].plot.hist(bins=10)\n",
    "plt.axvline(new_df['price'].mean(), color='red', linestyle='dashed', linewidth=2)\n",
    "print(\"Price mean: \",new_df['price'].mean())"
   ]
  },
  {
   "cell_type": "markdown",
   "id": "12133a3c",
   "metadata": {},
   "source": [
    "Let's take a shortcut with .describe() to summarized our dataset statistic."
   ]
  },
  {
   "cell_type": "code",
   "execution_count": 12,
   "id": "c81fd716",
   "metadata": {
    "scrolled": true
   },
   "outputs": [
    {
     "data": {
      "text/html": [
       "<div>\n",
       "<style scoped>\n",
       "    .dataframe tbody tr th:only-of-type {\n",
       "        vertical-align: middle;\n",
       "    }\n",
       "\n",
       "    .dataframe tbody tr th {\n",
       "        vertical-align: top;\n",
       "    }\n",
       "\n",
       "    .dataframe thead th {\n",
       "        text-align: right;\n",
       "    }\n",
       "</style>\n",
       "<table border=\"1\" class=\"dataframe\">\n",
       "  <thead>\n",
       "    <tr style=\"text-align: right;\">\n",
       "      <th></th>\n",
       "      <th>hour</th>\n",
       "      <th>day</th>\n",
       "      <th>month</th>\n",
       "      <th>price</th>\n",
       "      <th>distance</th>\n",
       "      <th>surge_multiplier</th>\n",
       "      <th>temperature</th>\n",
       "      <th>apparentTemperature</th>\n",
       "      <th>precipIntensity</th>\n",
       "      <th>precipProbability</th>\n",
       "      <th>...</th>\n",
       "      <th>dewPoint</th>\n",
       "      <th>pressure</th>\n",
       "      <th>windBearing</th>\n",
       "      <th>cloudCover</th>\n",
       "      <th>visibility.1</th>\n",
       "      <th>precipIntensityMax</th>\n",
       "      <th>temperatureMin</th>\n",
       "      <th>temperatureMax</th>\n",
       "      <th>apparentTemperatureMin</th>\n",
       "      <th>apparentTemperatureMax</th>\n",
       "    </tr>\n",
       "  </thead>\n",
       "  <tbody>\n",
       "    <tr>\n",
       "      <th>count</th>\n",
       "      <td>637976.000000</td>\n",
       "      <td>637976.000000</td>\n",
       "      <td>637976.000000</td>\n",
       "      <td>637976.000000</td>\n",
       "      <td>637976.000000</td>\n",
       "      <td>637976.000000</td>\n",
       "      <td>637976.000000</td>\n",
       "      <td>637976.00000</td>\n",
       "      <td>637976.000000</td>\n",
       "      <td>637976.000000</td>\n",
       "      <td>...</td>\n",
       "      <td>637976.000000</td>\n",
       "      <td>637976.000000</td>\n",
       "      <td>637976.000000</td>\n",
       "      <td>637976.000000</td>\n",
       "      <td>637976.000000</td>\n",
       "      <td>637976.000000</td>\n",
       "      <td>637976.000000</td>\n",
       "      <td>637976.000000</td>\n",
       "      <td>637976.000000</td>\n",
       "      <td>637976.000000</td>\n",
       "    </tr>\n",
       "    <tr>\n",
       "      <th>mean</th>\n",
       "      <td>11.618528</td>\n",
       "      <td>17.797674</td>\n",
       "      <td>11.586550</td>\n",
       "      <td>16.545125</td>\n",
       "      <td>2.189261</td>\n",
       "      <td>1.015068</td>\n",
       "      <td>39.582406</td>\n",
       "      <td>35.87844</td>\n",
       "      <td>0.008909</td>\n",
       "      <td>0.145941</td>\n",
       "      <td>...</td>\n",
       "      <td>31.652281</td>\n",
       "      <td>1010.092744</td>\n",
       "      <td>220.112705</td>\n",
       "      <td>0.686291</td>\n",
       "      <td>8.469180</td>\n",
       "      <td>0.037369</td>\n",
       "      <td>33.456171</td>\n",
       "      <td>45.259945</td>\n",
       "      <td>29.729028</td>\n",
       "      <td>41.995876</td>\n",
       "    </tr>\n",
       "    <tr>\n",
       "      <th>std</th>\n",
       "      <td>6.948776</td>\n",
       "      <td>9.982083</td>\n",
       "      <td>0.492452</td>\n",
       "      <td>9.324359</td>\n",
       "      <td>1.135413</td>\n",
       "      <td>0.095422</td>\n",
       "      <td>6.725500</td>\n",
       "      <td>7.91726</td>\n",
       "      <td>0.026880</td>\n",
       "      <td>0.328776</td>\n",
       "      <td>...</td>\n",
       "      <td>9.141390</td>\n",
       "      <td>13.475580</td>\n",
       "      <td>99.087172</td>\n",
       "      <td>0.358599</td>\n",
       "      <td>2.601828</td>\n",
       "      <td>0.055216</td>\n",
       "      <td>6.466349</td>\n",
       "      <td>5.644414</td>\n",
       "      <td>7.109907</td>\n",
       "      <td>6.935538</td>\n",
       "    </tr>\n",
       "    <tr>\n",
       "      <th>min</th>\n",
       "      <td>0.000000</td>\n",
       "      <td>1.000000</td>\n",
       "      <td>11.000000</td>\n",
       "      <td>2.500000</td>\n",
       "      <td>0.020000</td>\n",
       "      <td>1.000000</td>\n",
       "      <td>18.910000</td>\n",
       "      <td>12.13000</td>\n",
       "      <td>0.000000</td>\n",
       "      <td>0.000000</td>\n",
       "      <td>...</td>\n",
       "      <td>4.390000</td>\n",
       "      <td>988.090000</td>\n",
       "      <td>2.000000</td>\n",
       "      <td>0.000000</td>\n",
       "      <td>0.717000</td>\n",
       "      <td>0.000000</td>\n",
       "      <td>15.630000</td>\n",
       "      <td>33.510000</td>\n",
       "      <td>11.810000</td>\n",
       "      <td>28.950000</td>\n",
       "    </tr>\n",
       "    <tr>\n",
       "      <th>25%</th>\n",
       "      <td>6.000000</td>\n",
       "      <td>13.000000</td>\n",
       "      <td>11.000000</td>\n",
       "      <td>9.000000</td>\n",
       "      <td>1.270000</td>\n",
       "      <td>1.000000</td>\n",
       "      <td>36.450000</td>\n",
       "      <td>31.91000</td>\n",
       "      <td>0.000000</td>\n",
       "      <td>0.000000</td>\n",
       "      <td>...</td>\n",
       "      <td>27.490000</td>\n",
       "      <td>999.820000</td>\n",
       "      <td>124.000000</td>\n",
       "      <td>0.370000</td>\n",
       "      <td>8.432000</td>\n",
       "      <td>0.000000</td>\n",
       "      <td>30.170000</td>\n",
       "      <td>42.570000</td>\n",
       "      <td>27.760000</td>\n",
       "      <td>36.570000</td>\n",
       "    </tr>\n",
       "    <tr>\n",
       "      <th>50%</th>\n",
       "      <td>12.000000</td>\n",
       "      <td>17.000000</td>\n",
       "      <td>12.000000</td>\n",
       "      <td>13.500000</td>\n",
       "      <td>2.160000</td>\n",
       "      <td>1.000000</td>\n",
       "      <td>40.490000</td>\n",
       "      <td>35.90000</td>\n",
       "      <td>0.000000</td>\n",
       "      <td>0.000000</td>\n",
       "      <td>...</td>\n",
       "      <td>30.690000</td>\n",
       "      <td>1009.250000</td>\n",
       "      <td>258.000000</td>\n",
       "      <td>0.820000</td>\n",
       "      <td>9.880000</td>\n",
       "      <td>0.000400</td>\n",
       "      <td>34.240000</td>\n",
       "      <td>44.660000</td>\n",
       "      <td>30.130000</td>\n",
       "      <td>40.950000</td>\n",
       "    </tr>\n",
       "    <tr>\n",
       "      <th>75%</th>\n",
       "      <td>18.000000</td>\n",
       "      <td>28.000000</td>\n",
       "      <td>12.000000</td>\n",
       "      <td>22.500000</td>\n",
       "      <td>2.930000</td>\n",
       "      <td>1.000000</td>\n",
       "      <td>43.580000</td>\n",
       "      <td>40.01000</td>\n",
       "      <td>0.000000</td>\n",
       "      <td>0.000000</td>\n",
       "      <td>...</td>\n",
       "      <td>38.120000</td>\n",
       "      <td>1021.860000</td>\n",
       "      <td>303.000000</td>\n",
       "      <td>1.000000</td>\n",
       "      <td>9.996000</td>\n",
       "      <td>0.091600</td>\n",
       "      <td>38.880000</td>\n",
       "      <td>46.910000</td>\n",
       "      <td>35.710000</td>\n",
       "      <td>44.120000</td>\n",
       "    </tr>\n",
       "    <tr>\n",
       "      <th>max</th>\n",
       "      <td>23.000000</td>\n",
       "      <td>30.000000</td>\n",
       "      <td>12.000000</td>\n",
       "      <td>97.500000</td>\n",
       "      <td>7.860000</td>\n",
       "      <td>3.000000</td>\n",
       "      <td>57.220000</td>\n",
       "      <td>57.22000</td>\n",
       "      <td>0.144700</td>\n",
       "      <td>1.000000</td>\n",
       "      <td>...</td>\n",
       "      <td>50.670000</td>\n",
       "      <td>1035.550000</td>\n",
       "      <td>356.000000</td>\n",
       "      <td>1.000000</td>\n",
       "      <td>10.000000</td>\n",
       "      <td>0.145900</td>\n",
       "      <td>43.100000</td>\n",
       "      <td>57.870000</td>\n",
       "      <td>40.050000</td>\n",
       "      <td>57.200000</td>\n",
       "    </tr>\n",
       "  </tbody>\n",
       "</table>\n",
       "<p>8 rows × 24 columns</p>\n",
       "</div>"
      ],
      "text/plain": [
       "                hour            day          month          price  \\\n",
       "count  637976.000000  637976.000000  637976.000000  637976.000000   \n",
       "mean       11.618528      17.797674      11.586550      16.545125   \n",
       "std         6.948776       9.982083       0.492452       9.324359   \n",
       "min         0.000000       1.000000      11.000000       2.500000   \n",
       "25%         6.000000      13.000000      11.000000       9.000000   \n",
       "50%        12.000000      17.000000      12.000000      13.500000   \n",
       "75%        18.000000      28.000000      12.000000      22.500000   \n",
       "max        23.000000      30.000000      12.000000      97.500000   \n",
       "\n",
       "            distance  surge_multiplier    temperature  apparentTemperature  \\\n",
       "count  637976.000000     637976.000000  637976.000000         637976.00000   \n",
       "mean        2.189261          1.015068      39.582406             35.87844   \n",
       "std         1.135413          0.095422       6.725500              7.91726   \n",
       "min         0.020000          1.000000      18.910000             12.13000   \n",
       "25%         1.270000          1.000000      36.450000             31.91000   \n",
       "50%         2.160000          1.000000      40.490000             35.90000   \n",
       "75%         2.930000          1.000000      43.580000             40.01000   \n",
       "max         7.860000          3.000000      57.220000             57.22000   \n",
       "\n",
       "       precipIntensity  precipProbability  ...       dewPoint       pressure  \\\n",
       "count    637976.000000      637976.000000  ...  637976.000000  637976.000000   \n",
       "mean          0.008909           0.145941  ...      31.652281    1010.092744   \n",
       "std           0.026880           0.328776  ...       9.141390      13.475580   \n",
       "min           0.000000           0.000000  ...       4.390000     988.090000   \n",
       "25%           0.000000           0.000000  ...      27.490000     999.820000   \n",
       "50%           0.000000           0.000000  ...      30.690000    1009.250000   \n",
       "75%           0.000000           0.000000  ...      38.120000    1021.860000   \n",
       "max           0.144700           1.000000  ...      50.670000    1035.550000   \n",
       "\n",
       "         windBearing     cloudCover   visibility.1  precipIntensityMax  \\\n",
       "count  637976.000000  637976.000000  637976.000000       637976.000000   \n",
       "mean      220.112705       0.686291       8.469180            0.037369   \n",
       "std        99.087172       0.358599       2.601828            0.055216   \n",
       "min         2.000000       0.000000       0.717000            0.000000   \n",
       "25%       124.000000       0.370000       8.432000            0.000000   \n",
       "50%       258.000000       0.820000       9.880000            0.000400   \n",
       "75%       303.000000       1.000000       9.996000            0.091600   \n",
       "max       356.000000       1.000000      10.000000            0.145900   \n",
       "\n",
       "       temperatureMin  temperatureMax  apparentTemperatureMin  \\\n",
       "count   637976.000000   637976.000000           637976.000000   \n",
       "mean        33.456171       45.259945               29.729028   \n",
       "std          6.466349        5.644414                7.109907   \n",
       "min         15.630000       33.510000               11.810000   \n",
       "25%         30.170000       42.570000               27.760000   \n",
       "50%         34.240000       44.660000               30.130000   \n",
       "75%         38.880000       46.910000               35.710000   \n",
       "max         43.100000       57.870000               40.050000   \n",
       "\n",
       "       apparentTemperatureMax  \n",
       "count           637976.000000  \n",
       "mean                41.995876  \n",
       "std                  6.935538  \n",
       "min                 28.950000  \n",
       "25%                 36.570000  \n",
       "50%                 40.950000  \n",
       "75%                 44.120000  \n",
       "max                 57.200000  \n",
       "\n",
       "[8 rows x 24 columns]"
      ]
     },
     "execution_count": 12,
     "metadata": {},
     "output_type": "execute_result"
    }
   ],
   "source": [
    "new_df.describe()"
   ]
  },
  {
   "cell_type": "code",
   "execution_count": 54,
   "id": "3ab56119",
   "metadata": {},
   "outputs": [
    {
     "data": {
      "text/plain": [
       "Index(['hour', 'day', 'month', 'datetime', 'timezone', 'source', 'destination',\n",
       "       'cab_type', 'product_id', 'name', 'price', 'distance',\n",
       "       'surge_multiplier', 'temperature', 'apparentTemperature',\n",
       "       'short_summary', 'precipIntensity', 'precipProbability', 'humidity',\n",
       "       'windSpeed', 'windGust', 'visibility', 'dewPoint', 'pressure',\n",
       "       'windBearing', 'cloudCover', 'visibility.1', 'precipIntensityMax',\n",
       "       'temperatureMin', 'temperatureMax', 'apparentTemperatureMin',\n",
       "       'apparentTemperatureMax'],\n",
       "      dtype='object')"
      ]
     },
     "execution_count": 54,
     "metadata": {},
     "output_type": "execute_result"
    }
   ],
   "source": [
    "# see all new edited dataset columns\n",
    "new_df.columns"
   ]
  },
  {
   "cell_type": "code",
   "execution_count": 55,
   "id": "bb5ef943",
   "metadata": {},
   "outputs": [
    {
     "data": {
      "text/html": [
       "<div>\n",
       "<style scoped>\n",
       "    .dataframe tbody tr th:only-of-type {\n",
       "        vertical-align: middle;\n",
       "    }\n",
       "\n",
       "    .dataframe tbody tr th {\n",
       "        vertical-align: top;\n",
       "    }\n",
       "\n",
       "    .dataframe thead th {\n",
       "        text-align: right;\n",
       "    }\n",
       "</style>\n",
       "<table border=\"1\" class=\"dataframe\">\n",
       "  <thead>\n",
       "    <tr style=\"text-align: right;\">\n",
       "      <th></th>\n",
       "      <th>distance</th>\n",
       "      <th>precipIntensity</th>\n",
       "      <th>visibility</th>\n",
       "      <th>windGust</th>\n",
       "      <th>cloudCover</th>\n",
       "      <th>price</th>\n",
       "    </tr>\n",
       "  </thead>\n",
       "  <tbody>\n",
       "    <tr>\n",
       "      <th>distance</th>\n",
       "      <td>1.000000</td>\n",
       "      <td>-0.000512</td>\n",
       "      <td>0.004143</td>\n",
       "      <td>0.000920</td>\n",
       "      <td>-0.000958</td>\n",
       "      <td>0.345061</td>\n",
       "    </tr>\n",
       "    <tr>\n",
       "      <th>precipIntensity</th>\n",
       "      <td>-0.000512</td>\n",
       "      <td>1.000000</td>\n",
       "      <td>-0.600613</td>\n",
       "      <td>0.197778</td>\n",
       "      <td>0.288915</td>\n",
       "      <td>0.000166</td>\n",
       "    </tr>\n",
       "    <tr>\n",
       "      <th>visibility</th>\n",
       "      <td>0.004143</td>\n",
       "      <td>-0.600613</td>\n",
       "      <td>1.000000</td>\n",
       "      <td>0.038898</td>\n",
       "      <td>-0.477676</td>\n",
       "      <td>0.001497</td>\n",
       "    </tr>\n",
       "    <tr>\n",
       "      <th>windGust</th>\n",
       "      <td>0.000920</td>\n",
       "      <td>0.197778</td>\n",
       "      <td>0.038898</td>\n",
       "      <td>1.000000</td>\n",
       "      <td>0.104673</td>\n",
       "      <td>0.001218</td>\n",
       "    </tr>\n",
       "    <tr>\n",
       "      <th>cloudCover</th>\n",
       "      <td>-0.000958</td>\n",
       "      <td>0.288915</td>\n",
       "      <td>-0.477676</td>\n",
       "      <td>0.104673</td>\n",
       "      <td>1.000000</td>\n",
       "      <td>0.000883</td>\n",
       "    </tr>\n",
       "    <tr>\n",
       "      <th>price</th>\n",
       "      <td>0.345061</td>\n",
       "      <td>0.000166</td>\n",
       "      <td>0.001497</td>\n",
       "      <td>0.001218</td>\n",
       "      <td>0.000883</td>\n",
       "      <td>1.000000</td>\n",
       "    </tr>\n",
       "  </tbody>\n",
       "</table>\n",
       "</div>"
      ],
      "text/plain": [
       "                 distance  precipIntensity  visibility  windGust  cloudCover  \\\n",
       "distance         1.000000        -0.000512    0.004143  0.000920   -0.000958   \n",
       "precipIntensity -0.000512         1.000000   -0.600613  0.197778    0.288915   \n",
       "visibility       0.004143        -0.600613    1.000000  0.038898   -0.477676   \n",
       "windGust         0.000920         0.197778    0.038898  1.000000    0.104673   \n",
       "cloudCover      -0.000958         0.288915   -0.477676  0.104673    1.000000   \n",
       "price            0.345061         0.000166    0.001497  0.001218    0.000883   \n",
       "\n",
       "                    price  \n",
       "distance         0.345061  \n",
       "precipIntensity  0.000166  \n",
       "visibility       0.001497  \n",
       "windGust         0.001218  \n",
       "cloudCover       0.000883  \n",
       "price            1.000000  "
      ]
     },
     "execution_count": 55,
     "metadata": {},
     "output_type": "execute_result"
    }
   ],
   "source": [
    "# check data correlation with price column\n",
    "new_df[feature_cols+['price']].corr()"
   ]
  },
  {
   "cell_type": "markdown",
   "id": "9f31d088",
   "metadata": {},
   "source": [
    "We can see that Distance is the most correlated with Price."
   ]
  },
  {
   "cell_type": "code",
   "execution_count": 56,
   "id": "b8841758",
   "metadata": {},
   "outputs": [
    {
     "data": {
      "text/plain": [
       "<AxesSubplot:>"
      ]
     },
     "execution_count": 56,
     "metadata": {},
     "output_type": "execute_result"
    },
    {
     "data": {
      "image/png": "[encoded data removed]",
      "text/plain": [
       "<Figure size 432x288 with 2 Axes>"
      ]
     },
     "metadata": {
      "needs_background": "light"
     },
     "output_type": "display_data"
    }
   ],
   "source": [
    "sns.heatmap(new_df[feature_cols+['price']].corr())"
   ]
  },
  {
   "cell_type": "markdown",
   "id": "ede0a8c5",
   "metadata": {},
   "source": [
    "# Data Transformation"
   ]
  },
  {
   "cell_type": "markdown",
   "id": "84a83ec7",
   "metadata": {},
   "source": [
    "Choose columns that related with Price, statistically."
   ]
  },
  {
   "cell_type": "code",
   "execution_count": 44,
   "id": "7a204a04",
   "metadata": {},
   "outputs": [],
   "source": [
    "feature_cols = ['distance','precipIntensity','visibility','windGust','cloudCover']\n",
    "X = new_df[feature_cols]\n",
    "y = new_df['price']"
   ]
  },
  {
   "cell_type": "markdown",
   "id": "42f8aa39",
   "metadata": {},
   "source": [
    "# Modelling"
   ]
  },
  {
   "cell_type": "markdown",
   "id": "b1d48172",
   "metadata": {},
   "source": [
    "### Data Scaling"
   ]
  },
  {
   "cell_type": "code",
   "execution_count": 58,
   "id": "ac57fd1f",
   "metadata": {},
   "outputs": [],
   "source": [
    "scaler = StandardScaler()\n",
    "scaler.fit(X)\n",
    "\n",
    "X = scaler.transform(X)"
   ]
  },
  {
   "cell_type": "markdown",
   "id": "4eda2efa",
   "metadata": {},
   "source": [
    "### Splitting Data"
   ]
  },
  {
   "cell_type": "code",
   "execution_count": 60,
   "id": "ff7ecd96",
   "metadata": {},
   "outputs": [],
   "source": [
    "from sklearn.model_selection import train_test_split\n",
    "\n",
    "X_train, X_test, y_train, y_test = train_test_split(X, y, test_size=0.3, random_state=69)"
   ]
  },
  {
   "cell_type": "markdown",
   "id": "282e3e05",
   "metadata": {},
   "source": [
    "# Train model"
   ]
  },
  {
   "cell_type": "code",
   "execution_count": 61,
   "id": "40fbb8de",
   "metadata": {},
   "outputs": [
    {
     "data": {
      "text/plain": [
       "LinearRegression(fit_intercept=False)"
      ]
     },
     "execution_count": 61,
     "metadata": {},
     "output_type": "execute_result"
    }
   ],
   "source": [
    "model = LinearRegression(fit_intercept=False)\n",
    "model.fit(X_train, y_train)"
   ]
  },
  {
   "cell_type": "markdown",
   "id": "c6ffa262",
   "metadata": {},
   "source": [
    "# Model Inference\n",
    "\n",
    "The inference is the stage in which a trained model is used to infer/predict the testing samples and comprises of a similar forward pass as training to predict the values."
   ]
  },
  {
   "cell_type": "code",
   "execution_count": 64,
   "id": "269ed146",
   "metadata": {
    "scrolled": true
   },
   "outputs": [
    {
     "data": {
      "text/plain": [
       "array([-1.25873623,  0.32893875, -3.67114392, ..., -4.45794169,\n",
       "        1.25234072,  2.68379235])"
      ]
     },
     "execution_count": 64,
     "metadata": {},
     "output_type": "execute_result"
    }
   ],
   "source": [
    "# y_pred stands for 'y prediction' because we want to predict y value\n",
    "y_pred = model.predict(X_test)\n",
    "y_pred"
   ]
  },
  {
   "cell_type": "markdown",
   "id": "84466321",
   "metadata": {},
   "source": [
    "Let's see difference between our prediction with y_test."
   ]
  },
  {
   "cell_type": "code",
   "execution_count": 66,
   "id": "feed1dce",
   "metadata": {},
   "outputs": [],
   "source": [
    "gap = y_test - y_pred"
   ]
  },
  {
   "cell_type": "code",
   "execution_count": 67,
   "id": "617b6e9b",
   "metadata": {},
   "outputs": [
    {
     "data": {
      "text/plain": [
       "<AxesSubplot:>"
      ]
     },
     "execution_count": 67,
     "metadata": {},
     "output_type": "execute_result"
    },
    {
     "data": {
      "image/png": "[encoded data removed]",
      "text/plain": [
       "<Figure size 432x288 with 1 Axes>"
      ]
     },
     "metadata": {
      "needs_background": "light"
     },
     "output_type": "display_data"
    }
   ],
   "source": [
    "gap.reset_index(drop=True).plot()"
   ]
  },
  {
   "cell_type": "markdown",
   "id": "0c332976",
   "metadata": {},
   "source": [
    "From here we can see a huge gap between our prediction with the data test.\n",
    "\n",
    "So, we can say that our prediction is not good because it's far from the real test data (y_test)."
   ]
  },
  {
   "cell_type": "markdown",
   "id": "83440fa7",
   "metadata": {},
   "source": [
    "#### Let's try to plot this so we can see the difference."
   ]
  },
  {
   "cell_type": "code",
   "execution_count": 79,
   "id": "47faa3c7",
   "metadata": {},
   "outputs": [
    {
     "data": {
      "text/plain": [
       "<matplotlib.legend.Legend at 0x1532b8b1970>"
      ]
     },
     "execution_count": 79,
     "metadata": {},
     "output_type": "execute_result"
    },
    {
     "data": {
      "image/png": "[encoded data removed]",
      "text/plain": [
       "<Figure size 432x288 with 1 Axes>"
      ]
     },
     "metadata": {
      "needs_background": "light"
     },
     "output_type": "display_data"
    }
   ],
   "source": [
    "fig,ax = plt.subplots() #make canvas plot\n",
    "\n",
    "plt.rcParams['agg.path.chunksize'] = 10000\n",
    "y_test_reset = y_test.reset_index(drop=True)\n",
    "\n",
    "ax.plot(y_test_reset.index.values, y_test, label='True data')\n",
    "ax.plot(y_test_reset.index.values, predict, label='Predict data')\n",
    "plt.legend()"
   ]
  },
  {
   "cell_type": "markdown",
   "id": "24f56af6",
   "metadata": {},
   "source": [
    "# Conclusion"
   ]
  },
  {
   "cell_type": "markdown",
   "id": "8789822b",
   "metadata": {},
   "source": [
    "Linear Regression model isn't compatible with this dataset. We need to change our model because the prediction is not close to the real data."
   ]
  }
 ],
 "metadata": {
  "kernelspec": {
   "display_name": "Python 3",
   "language": "python",
   "name": "python3"
  },
  "language_info": {
   "codemirror_mode": {
    "name": "ipython",
    "version": 3
   },
   "file_extension": ".py",
   "mimetype": "text/x-python",
   "name": "python",
   "nbconvert_exporter": "python",
   "pygments_lexer": "ipython3",
   "version": "3.8.8"
  }
 },
 "nbformat": 4,
 "nbformat_minor": 5
}
